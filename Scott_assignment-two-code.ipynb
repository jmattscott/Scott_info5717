{
 "cells": [
  {
   "cell_type": "markdown",
   "metadata": {},
   "source": [
    "5717 Assignment 2 code"
   ]
  },
  {
   "cell_type": "markdown",
   "metadata": {},
   "source": [
    "Question 1"
   ]
  },
  {
   "cell_type": "code",
   "execution_count": 7,
   "metadata": {},
   "outputs": [
    {
     "name": "stdout",
     "output_type": "stream",
     "text": [
      "r     V\n",
      "1     4.188786666666666\n",
      "2     33.51029333333333\n",
      "3     113.09723999999999\n",
      "4     268.08234666666664\n",
      "5     523.5983333333332\n",
      "6     904.7779199999999\n",
      "7     1436.7538266666666\n",
      "8     2144.658773333333\n",
      "9     3053.6254799999997\n",
      "10     4188.786666666666\n"
     ]
    }
   ],
   "source": [
    "# Question 1\n",
    "# Write a program to calculate the value of V when r is in the range of 1–10.\n",
    "\n",
    "print('r', '    V')\n",
    "pi = 3.14159\n",
    "r = 1\n",
    "V = 4.0/3.0*pi*r**3\n",
    "while r <=10:\n",
    "  print(r,\"   \",V)\n",
    "  r += 1\n",
    "  V = 4.0/3.0*pi*r**3"
   ]
  },
  {
   "cell_type": "markdown",
   "metadata": {},
   "source": [
    "Question 2"
   ]
  },
  {
   "cell_type": "code",
   "execution_count": 18,
   "metadata": {},
   "outputs": [
    {
     "name": "stdout",
     "output_type": "stream",
     "text": [
      "End process\n"
     ]
    }
   ],
   "source": [
    "# Question 2.1\n",
    "\n",
    "# Write a program to read all the txt files and save the sentences in all the files into one csv file with two\n",
    "# columns, the first column is sentence id (txt file name+sentence line number), the second column is the sentence \n",
    "# text content.\n",
    "\n",
    "import csv\n",
    "import os, os.path\n",
    "\n",
    "Dir = 'Assignment2_data_collection'\n",
    "filenames = [name for name in os.listdir(Dir) if os.path.isfile(os.path.join(Dir, name))]\n",
    "\n",
    "with open('sentences.csv','w') as output_file:\n",
    "    writer = csv.writer(output_file, delimiter = ',')\n",
    "    writer.writerow(['Sentence ID', 'Content'])\n",
    "    \n",
    "    for file in filenames:\n",
    "        with open(os.path.join(Dir, file), 'r') as input_file:\n",
    "            lines = input_file.readlines()\n",
    "            sentence_line_num = len(lines)\n",
    "            contents = ''\n",
    "           \n",
    "            count = 0\n",
    "            searched_contents = ''\n",
    "            for line in lines:\n",
    "                contents += line\n",
    "            writer.writerow([file + str(sentence_line_num), contents])\n",
    "            input_file.close()\n",
    "    output_file.close()\n",
    "    print('End process')\n"
   ]
  },
  {
   "cell_type": "code",
   "execution_count": 19,
   "metadata": {},
   "outputs": [
    {
     "name": "stdout",
     "output_type": "stream",
     "text": [
      "End process\n"
     ]
    }
   ],
   "source": [
    "# Question 2.2\n",
    "\n",
    "# Remove all the numbers, special characters, punctuation from the sentences, save the processed sentences into \n",
    "# a new column in the same csv file.\n",
    "\n",
    "import csv\n",
    "import os, os.path\n",
    "\n",
    "Dir = 'Assignment2_data_collection'\n",
    "filenames = [name for name in os.listdir(Dir) if os.path.isfile(os.path.join(Dir, name))]\n",
    "\n",
    "with open('sentences_processed.csv','w') as output_file:\n",
    "    writer = csv.writer(output_file, delimiter = ',')\n",
    "    writer.writerow(['Sentence ID', 'Content', 'Processed'])\n",
    "    \n",
    "    for file in filenames:\n",
    "        with open(os.path.join(Dir, file), 'r') as input_file:\n",
    "            lines = input_file.readlines()\n",
    "            sentence_line_num = len(lines)\n",
    "            contents = ''\n",
    "            processed_contents = ''\n",
    "            count = 0\n",
    "            searched_contents = ''\n",
    "            for line in lines:\n",
    "                contents += line\n",
    "                processed_contents += ''.join(e for e in line if e.isalpha()) \n",
    "            writer.writerow([file + str(sentence_line_num), contents, processed_contents])\n",
    "            input_file.close()\n",
    "    output_file.close()\n",
    "    print('End process')"
   ]
  },
  {
   "cell_type": "code",
   "execution_count": null,
   "metadata": {},
   "outputs": [],
   "source": [
    "# Question 2.3\n",
    "\n",
    "# Ask the user to enter a word, return all the sentences that include this word. Return: sentence id, sentence \n",
    "# text content, & the count that user input word appear in the sentence.\n",
    "\n",
    "import csv\n",
    "import os, os.path\n",
    "\n",
    "Dir = 'Assignment2_data_collection'\n",
    "Search_Word =  input(\"Enter a word to search: \")\n",
    "filenames = [name for name in os.listdir(Dir) if os.path.isfile(os.path.join(Dir, name))]\n",
    "\n",
    "with open('sentences_search.csv','w') as output_file:\n",
    "    writer = csv.writer(output_file, delimiter = ',')\n",
    "    writer.writerow(['Sentence ID', 'Content', 'Count'])\n",
    "    \n",
    "    for file in filenames:\n",
    "        with open(os.path.join(Dir, file), 'r') as input_file:\n",
    "            lines = input_file.readlines()\n",
    "            sentence_line_num = len(lines)\n",
    "            count = 0\n",
    "            searched_contents = ''\n",
    "            for line in lines:\n",
    "                if Search_Word in line:\n",
    "                    count += 1\n",
    "                    searched_contents += line\n",
    "            writer.writerow([file + str(sentence_line_num), searched_contents, count])\n",
    "            input_file.close()\n",
    "    output_file.close()\n",
    "    print('End process')"
   ]
  },
  {
   "cell_type": "markdown",
   "metadata": {},
   "source": [
    "Question 3"
   ]
  },
  {
   "cell_type": "code",
   "execution_count": 2,
   "metadata": {},
   "outputs": [
    {
     "name": "stdout",
     "output_type": "stream",
     "text": [
      "From  2008-2009  -795\n",
      "From  2009-2010  5091\n",
      "From  2010-2011  -303\n",
      "From  2011-2012  1404\n",
      "From  2012-2013  1565\n",
      "From  2013-2014  2622\n"
     ]
    }
   ],
   "source": [
    "# Question 3.1\n",
    "\n",
    "# Calculate the difference in the number of Occupied Housing Units for consecutive years and print.\n",
    "# Next, print the values in the ascending order.\n",
    "\n",
    "import csv\n",
    "occupied = {}\n",
    "with open(r'C:\\Users\\Moo Hoo Scott/Downloads/Assignment2_denton_housing_.csv', 'r') as input:\n",
    "    fread = csv.reader(input)\n",
    "    for row in fread:\n",
    "        if row[1] == 'Occupied Housing Units':\n",
    "            occupied[int(row[0])] = int(row[2])\n",
    "difference = {}\n",
    "year = 2008\n",
    "while year < 2014:\n",
    "    difference[occupied[year+1]-occupied[year]] = str(year) + \"-\" + str(year+1)\n",
    "    year +=1\n",
    "for item in difference:\n",
    "    print('From ', difference[item] + \" \", item)\n",
    "    "
   ]
  },
  {
   "cell_type": "code",
   "execution_count": 4,
   "metadata": {},
   "outputs": [
    {
     "name": "stdout",
     "output_type": "stream",
     "text": [
      "Year\tVacant Housing Units\tOccupied Housing Units\n",
      "2008\t\t11%\t\t\t89%\n",
      "2009\t\t9%\t\t\t91%\n",
      "2010\t\t8%\t\t\t92%\n",
      "2011\t\t9%\t\t\t91%\n",
      "2012\t\t7%\t\t\t93%\n",
      "2013\t\t9%\t\t\t91%\n",
      "2014\t\t6%\t\t\t94%\n"
     ]
    }
   ],
   "source": [
    "# Question 3.2\n",
    "# For all the years, calculate the percentage of housing units which are vacant and occupied. Print the results in\n",
    "# columns: Year, Vacant Housing Units & Occupied Housing Units\n",
    "\n",
    "import csv\n",
    "\n",
    "def takeFirst(elem):\n",
    "    return elem[0]\n",
    "\n",
    "if __name__ == '__main__':\n",
    "    with open(r'C:\\Users\\Moo Hoo Scott\\Desktop\\Moo_Skool\\INFO 5717\\assignment2\\assignment2\\Assignment2_denton_housing.csv') as csv_file:\n",
    "        csv_reader = csv.reader(csv_file, delimiter=',')\n",
    "        year_array = []\n",
    "        total_array = []\n",
    "        vacant_array = []\n",
    "        occupied_array = []\n",
    "        result_data = []\n",
    "        for row in csv_reader:\n",
    "            if row[1] == 'Total Housing Units':\n",
    "                total_array.append(row[2])\n",
    "                year_array.append(row[0])\n",
    "            if row[1] == 'Vacant Housing Units':\n",
    "                vacant_array.append(row[2])\n",
    "            if row[1] == 'Occupied Housing Units':\n",
    "                occupied_array.append(row[2])\n",
    "        for idx in range(len(year_array)):\n",
    "            vacant_percent = round(int(vacant_array[idx])/int(total_array[idx])*100)\n",
    "            occupied_percent = 100 - vacant_percent\n",
    "            result_data.append((year_array[idx], vacant_percent, occupied_percent))\n",
    "\n",
    "        result_data.sort(key=takeFirst)\n",
    "        print(\"Year\\t\" + \"Vacant Housing Units\\t\" + \"Occupied Housing Units\")\n",
    "        for data in result_data:\n",
    "            print(data[0] + \"\\t\\t\" + str(data[1]) + \"%\\t\\t\\t\" + str(data[2]) + \"%\")\n"
   ]
  },
  {
   "cell_type": "code",
   "execution_count": 1,
   "metadata": {},
   "outputs": [
    {
     "name": "stdout",
     "output_type": "stream",
     "text": [
      "\t\t\tYear\tValue\n",
      "Vacant Housing Units\t2008\t4483\n",
      "Occupied Housing Units\t2014\t46295\n"
     ]
    }
   ],
   "source": [
    "# Question 3.3\n",
    "\n",
    "# Calculate and print the values and years in which the highest number of housing units were vacant and occupied. \n",
    "# Print the results in the following format:\n",
    "#\n",
    "#                        Year   Value\n",
    "# Vacant Housing Units   -----  -----\n",
    "# Occupied Housing Units -----  -----\n",
    "\n",
    "import csv\n",
    "\n",
    "def takeFirst(elem):\n",
    "    return elem[1]\n",
    "\n",
    "if __name__ == '__main__':\n",
    "    with open(r'C:\\Users\\Moo Hoo Scott\\Desktop\\Moo_Skool\\INFO 5717\\assignment2\\assignment2\\Assignment2_denton_housing.csv') as csv_file:\n",
    "        csv_reader = csv.reader(csv_file, delimiter=',')\n",
    "        year_array = []\n",
    "        vacant_array = []\n",
    "        occupied_array = []\n",
    "        result_data = []\n",
    "        for row in csv_reader:\n",
    "            if row[1] == 'Vacant Housing Units':\n",
    "                vacant_array.append((row[0], row[2]))\n",
    "            if row[1] == 'Occupied Housing Units':\n",
    "                occupied_array.append((row[0], row[2]))\n",
    "        \n",
    "        vacant_array.sort(key=takeFirst, reverse = True)\n",
    "        occupied_array.sort(key=takeFirst, reverse = True)\n",
    "        print(\"\\t\\t\\t\" + \"Year\\t\" + \"Value\")\n",
    "        print(\"Vacant Housing Units\" + \"\\t\" + str(vacant_array[0][0]) + \"\\t\" + str(vacant_array[0][1]))\n",
    "        print(\"Occupied Housing Units\" + \"\\t\" + str(occupied_array[0][0]) + \"\\t\" + str(occupied_array[0][1]))"
   ]
  },
  {
   "cell_type": "code",
   "execution_count": 5,
   "metadata": {},
   "outputs": [
    {
     "name": "stdout",
     "output_type": "stream",
     "text": [
      "hamonic value of total housing units: 46666.66667\n"
     ]
    }
   ],
   "source": [
    "# Question 3.4\n",
    "# Calculate the harmonic mean of the total housing units and print it out.\n",
    "\n",
    "import csv\n",
    "\n",
    "if __name__ == '__main__':\n",
    "    with open(r'C:\\Users\\Moo Hoo Scott\\Desktop\\Moo_Skool\\INFO 5717\\assignment2\\assignment2\\Assignment2_denton_housing.csv') as csv_file:\n",
    "        csv_reader = csv.reader(csv_file, delimiter=',')\n",
    "        total_array = []\n",
    "        for row in csv_reader:\n",
    "            if row[1] == 'Total Housing Units' and int(row[2]) > 0:\n",
    "                total_array.append(int(row[2]))\n",
    "        n = len(total_array)\n",
    "        denominator = 0.0\n",
    "        for data in total_array:\n",
    "            denominator += round(1/data, 5)\n",
    "        result = round(n/denominator, 5)\n",
    "\n",
    "        print('hamonic value of total housing units: {}'.format(result))"
   ]
  },
  {
   "cell_type": "code",
   "execution_count": null,
   "metadata": {},
   "outputs": [],
   "source": []
  }
 ],
 "metadata": {
  "celltoolbar": "Raw Cell Format",
  "kernelspec": {
   "display_name": "Python 3",
   "language": "python",
   "name": "python3"
  },
  "language_info": {
   "codemirror_mode": {
    "name": "ipython",
    "version": 3
   },
   "file_extension": ".py",
   "mimetype": "text/x-python",
   "name": "python",
   "nbconvert_exporter": "python",
   "pygments_lexer": "ipython3",
   "version": "3.7.3"
  }
 },
 "nbformat": 4,
 "nbformat_minor": 2
}
