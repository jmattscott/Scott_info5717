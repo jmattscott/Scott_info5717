{
  "nbformat": 4,
  "nbformat_minor": 0,
  "metadata": {
    "colab": {
      "name": "5717ass.1.ipynb",
      "provenance": [],
      "include_colab_link": true
    },
    "kernelspec": {
      "name": "python3",
      "display_name": "Python 3"
    }
  },
  "cells": [
    {
      "cell_type": "markdown",
      "metadata": {
        "id": "view-in-github",
        "colab_type": "text"
      },
      "source": [
        "<a href=\"https://colab.research.google.com/github/jmattscott/Scott_info5717/blob/master/5717ass_1.ipynb\" target=\"_parent\"><img src=\"https://colab.research.google.com/assets/colab-badge.svg\" alt=\"Open In Colab\"/></a>"
      ]
    },
    {
      "cell_type": "code",
      "metadata": {
        "id": "pRPla9QIsCdY",
        "colab_type": "code",
        "colab": {}
      },
      "source": [
        "# Question 1.ch3.2\n",
        "\n",
        "int('32')\n",
        "int('Hello')"
      ],
      "execution_count": 0,
      "outputs": []
    },
    {
      "cell_type": "code",
      "metadata": {
        "id": "zkVWRSyv49c5",
        "colab_type": "code",
        "colab": {}
      },
      "source": [
        "# Question 1.ch3.2b\n",
        "\n",
        "num = str(32)\n",
        "'Hello,', num"
      ],
      "execution_count": 0,
      "outputs": []
    },
    {
      "cell_type": "code",
      "metadata": {
        "id": "IVbOZLJX7wPW",
        "colab_type": "code",
        "colab": {}
      },
      "source": [
        "# Question 1.ch3.3\n",
        "\n",
        "int(3.99999)\n",
        "int(-2.3)"
      ],
      "execution_count": 0,
      "outputs": []
    },
    {
      "cell_type": "code",
      "metadata": {
        "id": "ECqQc8uV8BQJ",
        "colab_type": "code",
        "colab": {}
      },
      "source": [
        "# Question 1.ch3.3b\n",
        "\n",
        "print(int(3.99999)+int(-2.3))"
      ],
      "execution_count": 0,
      "outputs": []
    },
    {
      "cell_type": "code",
      "metadata": {
        "id": "oogFWso-8Q06",
        "colab_type": "code",
        "colab": {}
      },
      "source": [
        "# Question 1.ch3.4\n",
        "\n",
        "float(32)\n",
        "float('3.14159')"
      ],
      "execution_count": 0,
      "outputs": []
    },
    {
      "cell_type": "code",
      "metadata": {
        "id": "GoEfW83V8iVd",
        "colab_type": "code",
        "colab": {}
      },
      "source": [
        "# Question 1.ch3.4b\n",
        "\n",
        "print(float(1)+float('.1'))"
      ],
      "execution_count": 0,
      "outputs": []
    },
    {
      "cell_type": "code",
      "metadata": {
        "id": "7Yf5Nt6G9PGZ",
        "colab_type": "code",
        "colab": {}
      },
      "source": [
        "# Question 1.ch3.5\n",
        "\n",
        "str(32)\n",
        "str(3.14159)"
      ],
      "execution_count": 0,
      "outputs": []
    },
    {
      "cell_type": "code",
      "metadata": {
        "id": "KaWvucaU9ViZ",
        "colab_type": "code",
        "colab": {}
      },
      "source": [
        "# Question 1.ch3.5b\n",
        "\n",
        "print(str(32)*str(3.14159))\n",
        "\n",
        "# I made this error on purpose to illustrate that string values cannot be\n",
        "# multiplied even if they are 'numbers'"
      ],
      "execution_count": 0,
      "outputs": []
    },
    {
      "cell_type": "code",
      "metadata": {
        "id": "TdF3z83u_Y3t",
        "colab_type": "code",
        "colab": {}
      },
      "source": [
        "# Question 1.ch3.6\n",
        "\n",
        "import math"
      ],
      "execution_count": 0,
      "outputs": []
    },
    {
      "cell_type": "code",
      "metadata": {
        "id": "_67hwZGw_k7f",
        "colab_type": "code",
        "colab": {}
      },
      "source": [
        "# Question 1.ch3.6b\n",
        "\n",
        "import calendar"
      ],
      "execution_count": 0,
      "outputs": []
    },
    {
      "cell_type": "code",
      "metadata": {
        "id": "PRXCQgBW_6-B",
        "colab_type": "code",
        "colab": {}
      },
      "source": [
        "# Question 1.ch3.7\n",
        "\n",
        "import math\n",
        "ratio = signal_power / noise_power  # \"(assuming that signal_power and noise_power are defined)\" p.22\n",
        "decibels = 10 * math. log10(ratio)"
      ],
      "execution_count": 0,
      "outputs": []
    },
    {
      "cell_type": "code",
      "metadata": {
        "id": "YyNBsV7GFRq5",
        "colab_type": "code",
        "colab": {}
      },
      "source": [
        "# Question 1.ch3.7b\n",
        "\n",
        "import math\n",
        "signal_power = 5\n",
        "noise_power = 2.5\n",
        "ratio = signal_power / noise_power\n",
        "decibels = 10 * math. log10(ratio)\n",
        "print(ratio) \n",
        "print(decibels)"
      ],
      "execution_count": 0,
      "outputs": []
    },
    {
      "cell_type": "code",
      "metadata": {
        "id": "9icIDDafFWFJ",
        "colab_type": "code",
        "colab": {}
      },
      "source": [
        "# Question 1.ch3.8\n",
        "\n",
        "radians = 0.7\n",
        "height = math.sin(radians)"
      ],
      "execution_count": 0,
      "outputs": []
    },
    {
      "cell_type": "code",
      "metadata": {
        "id": "63vJuMmmFauh",
        "colab_type": "code",
        "colab": {}
      },
      "source": [
        "# Question 1.ch3.8b\n",
        "\n",
        "radians = 1.1\n",
        "height = math.sin(radians)\n",
        "print(height)"
      ],
      "execution_count": 0,
      "outputs": []
    },
    {
      "cell_type": "code",
      "metadata": {
        "id": "v9OZ90agH08Q",
        "colab_type": "code",
        "colab": {}
      },
      "source": [
        "# Question 1.ch3.9\n",
        "\n",
        "degrees = 45\n",
        "radians = degrees / 180.0 * math.pi\n",
        "math.sin(radians)"
      ],
      "execution_count": 0,
      "outputs": []
    },
    {
      "cell_type": "code",
      "metadata": {
        "id": "Af2l7sQ0IH2h",
        "colab_type": "code",
        "colab": {}
      },
      "source": [
        "# Question 1.ch3.9b\n",
        "\n",
        "degrees = 88\n",
        "radians = degrees / 180.0 * math.pi\n",
        "math.cos(radians)"
      ],
      "execution_count": 0,
      "outputs": []
    },
    {
      "cell_type": "code",
      "metadata": {
        "id": "o70CIWTjInCh",
        "colab_type": "code",
        "colab": {}
      },
      "source": [
        "# Question 1.ch3.10\n",
        "\n",
        "math.sqrt(2) / 2.0"
      ],
      "execution_count": 0,
      "outputs": []
    },
    {
      "cell_type": "code",
      "metadata": {
        "id": "41X1cwF5JnXZ",
        "colab_type": "code",
        "colab": {}
      },
      "source": [
        "# Question 1.ch3.10b\n",
        "\n",
        "int(math.sqrt(64) / 8)"
      ],
      "execution_count": 0,
      "outputs": []
    },
    {
      "cell_type": "code",
      "metadata": {
        "id": "rFRUzYgAJ6pC",
        "colab_type": "code",
        "colab": {}
      },
      "source": [
        "# Question 1.ch3.11\n",
        "\n",
        "mintues = hours * 60\n",
        "hours * 60 = minutes"
      ],
      "execution_count": 0,
      "outputs": []
    },
    {
      "cell_type": "code",
      "metadata": {
        "id": "3U8BkqSDKsKg",
        "colab_type": "code",
        "colab": {}
      },
      "source": [
        "# Question 1.ch3.11b\n",
        "\n",
        "mintues = hours * 60 # valid variable as long as 'hours' is defined \n",
        "hours * 60 = minutes # invalid variable, left side cannot conatin any operators "
      ],
      "execution_count": 0,
      "outputs": []
    },
    {
      "cell_type": "code",
      "metadata": {
        "id": "17n4_mtzLSZE",
        "colab_type": "code",
        "colab": {}
      },
      "source": [
        "# Question 1.ch3.12\n",
        "\n",
        "def print_lyrics():\n",
        "  print(\"I'm a lumberjack, and I'm okay.\")\n",
        "  print(\"I sleep all anight and I work all day.\")"
      ],
      "execution_count": 0,
      "outputs": []
    },
    {
      "cell_type": "code",
      "metadata": {
        "id": "1xbDr7fZLz1E",
        "colab_type": "code",
        "colab": {}
      },
      "source": [
        "# Question 1.ch3.12b\n",
        "\n",
        "def poem():\n",
        "  print(\"Roses are red,\")\n",
        "  print(\"Violets are blue.\")\n",
        "  \n",
        "poem()"
      ],
      "execution_count": 0,
      "outputs": []
    },
    {
      "cell_type": "code",
      "metadata": {
        "id": "7p1AKClnMNVY",
        "colab_type": "code",
        "colab": {}
      },
      "source": [
        "# Question 1.ch3.13\n",
        "\n",
        "def print_lyrics():\n",
        "  print(\"I'm a lumberjack, and I'm okay.\")\n",
        "  print(\"I sleep all anight and I work all day.\")\n",
        "\n",
        "def repeat_lyrics():\n",
        "  print_lyrics()\n",
        "  print_lyrics()\n",
        "  \n",
        "repeat_lyrics()"
      ],
      "execution_count": 0,
      "outputs": []
    },
    {
      "cell_type": "code",
      "metadata": {
        "id": "HgDIH8aaMasO",
        "colab_type": "code",
        "colab": {}
      },
      "source": [
        "# Question 1.ch3.13b\n",
        "\n",
        "def poem():\n",
        "  print(\"Roses are red,\")\n",
        "  print(\"Violets are blue.\")\n",
        "  \n",
        "def finish_poem():\n",
        "  poem()\n",
        "  print(\"Wait a second,\")\n",
        "  print(\"this is not a haiku.\")\n",
        "  \n",
        "finish_poem()"
      ],
      "execution_count": 0,
      "outputs": []
    },
    {
      "cell_type": "code",
      "metadata": {
        "id": "wASCon2_OUK-",
        "colab_type": "code",
        "colab": {}
      },
      "source": [
        "# Question 1.ch3.14\n",
        "\n",
        "def print_twice(bruce):\n",
        "  print(bruce)\n",
        "  print(bruce)\n",
        "  \n",
        "print_twice('Spam')\n",
        "\n",
        "print_twice(42)\n",
        "\n",
        "print_twice(math.pi)\n",
        "\n",
        "print_twice('Spam '*4)\n",
        "\n",
        "print_twice(math.cos(math.pi))\n",
        "\n",
        "michael = 'Eric, the half a bee.'\n",
        "print_twice(michael)"
      ],
      "execution_count": 0,
      "outputs": []
    },
    {
      "cell_type": "code",
      "metadata": {
        "id": "gjsWaWqfOpN9",
        "colab_type": "code",
        "colab": {}
      },
      "source": [
        "# Question 1.ch3.14b\n",
        "\n",
        "print('Hey')\n",
        "print_twice('Hey ')\n",
        "print_twice('Hey '*3)"
      ],
      "execution_count": 0,
      "outputs": []
    },
    {
      "cell_type": "code",
      "metadata": {
        "id": "nICbOm84VrPR",
        "colab_type": "code",
        "colab": {}
      },
      "source": [
        "# Question 1.ch3.15\n",
        "\n",
        "def cat_twice(part1, part2):\n",
        "  line1 = 'Bing tiddle '\n",
        "  line2 = 'tiddle bang.'\n",
        "  cat_twice(line1, line2)\n",
        "  \n",
        "print(cat) #'cat' is no longer defined after the blank line"
      ],
      "execution_count": 0,
      "outputs": []
    },
    {
      "cell_type": "code",
      "metadata": {
        "id": "yNzkdM9iaOL3",
        "colab_type": "code",
        "colab": {}
      },
      "source": [
        "# Question 1.ch3.15b\n",
        "\n"
      ],
      "execution_count": 0,
      "outputs": []
    },
    {
      "cell_type": "code",
      "metadata": {
        "id": "3TbP3rkMbXDl",
        "colab_type": "code",
        "colab": {}
      },
      "source": [
        "# Question 1.ch3.16\n",
        "\n",
        "x = math.cos(radians)\n",
        "golden = (math.sqrt(5) + 1) / 2"
      ],
      "execution_count": 0,
      "outputs": []
    },
    {
      "cell_type": "code",
      "metadata": {
        "id": "VanmtiyvbbyR",
        "colab_type": "code",
        "colab": {}
      },
      "source": [
        "# Question 1.ch3.16b\n",
        "\n"
      ],
      "execution_count": 0,
      "outputs": []
    },
    {
      "cell_type": "code",
      "metadata": {
        "id": "StyvKwokbgDS",
        "colab_type": "code",
        "colab": {}
      },
      "source": [
        "# Question 1.ch3.17\n",
        "\n",
        "math.sqrt(5)"
      ],
      "execution_count": 0,
      "outputs": []
    },
    {
      "cell_type": "code",
      "metadata": {
        "id": "GVu6r2vxbuQk",
        "colab_type": "code",
        "colab": {}
      },
      "source": [
        "# Question 1.ch3.17b\n"
      ],
      "execution_count": 0,
      "outputs": []
    },
    {
      "cell_type": "code",
      "metadata": {
        "id": "Vm7w8S0xb1lo",
        "colab_type": "code",
        "colab": {}
      },
      "source": [
        "# Question 1.ch3.18\n",
        "\n",
        "result = print_twice('Bing')\n",
        "\n",
        "print(result)\n",
        "\n",
        "print(type(None))"
      ],
      "execution_count": 0,
      "outputs": []
    },
    {
      "cell_type": "code",
      "metadata": {
        "id": "d5Laj2Eie_1k",
        "colab_type": "code",
        "colab": {}
      },
      "source": [
        "# Question 1.ch3.18b\n",
        "\n"
      ],
      "execution_count": 0,
      "outputs": []
    },
    {
      "cell_type": "code",
      "metadata": {
        "id": "neI-RagZfBfi",
        "colab_type": "code",
        "colab": {}
      },
      "source": [
        "# Question 1.ch4.1\n",
        "\n",
        "import turtle\n",
        "bob = turtle.Turtle()\n",
        "print(bob)\n",
        "bob.fd(100)\n",
        "bob.lt(90)\n",
        "bob.fd(100)\n",
        "turtle.mainloop()"
      ],
      "execution_count": 0,
      "outputs": []
    },
    {
      "cell_type": "code",
      "metadata": {
        "id": "med_sOToGl4i",
        "colab_type": "code",
        "colab": {}
      },
      "source": [
        "# Question 1.ch4.1\n",
        "\n",
        "import turtle\n",
        "bob = turtle.Turtle()\n",
        "print(bob)\n",
        "bob.rt(45)\n",
        "bob.fd(200)\n",
        "bob.rt(45)\n",
        "turtle.mainloop()"
      ],
      "execution_count": 0,
      "outputs": []
    },
    {
      "cell_type": "markdown",
      "metadata": {
        "id": "iiMj7DWrucHT",
        "colab_type": "text"
      },
      "source": [
        "# break break break <><><><><><><><><><>>>>>>>>>>>>>>>>>>>>>>>>>>>>>\n",
        "# intervening bits in jupyter\n",
        "#picking up with Q2"
      ]
    },
    {
      "cell_type": "code",
      "metadata": {
        "id": "EFriPDepsvfB",
        "colab_type": "code",
        "colab": {
          "base_uri": "https://localhost:8080/",
          "height": 34
        },
        "outputId": "da554bcd-cdbf-41d3-ec6a-9b2ae4dcc55e"
      },
      "source": [
        "# Question 2.1\n",
        "\n",
        "\"A\".isupper()\n",
        "\n",
        "# This function is checking if all characters in the string are in uppercase\n",
        "# Is upper?  Might be a natural language translation of this function "
      ],
      "execution_count": 5,
      "outputs": [
        {
          "output_type": "execute_result",
          "data": {
            "text/plain": [
              "True"
            ]
          },
          "metadata": {
            "tags": []
          },
          "execution_count": 5
        }
      ]
    },
    {
      "cell_type": "code",
      "metadata": {
        "id": "OcriAqtZuEJd",
        "colab_type": "code",
        "colab": {
          "base_uri": "https://localhost:8080/",
          "height": 130
        },
        "outputId": "db63a318-5adf-4c73-84ce-ffac02f38eb9"
      },
      "source": [
        "# Question 2.2\n",
        "\n",
        "print\"This is my Python class\"\n",
        "\n",
        "# Invalid.  Print function requires parentheses around the value to be printed "
      ],
      "execution_count": 6,
      "outputs": [
        {
          "output_type": "error",
          "ename": "SyntaxError",
          "evalue": "ignored",
          "traceback": [
            "\u001b[0;36m  File \u001b[0;32m\"<ipython-input-6-1680b743cd60>\"\u001b[0;36m, line \u001b[0;32m2\u001b[0m\n\u001b[0;31m    print\"This is my Python class\"\u001b[0m\n\u001b[0m                                 ^\u001b[0m\n\u001b[0;31mSyntaxError\u001b[0m\u001b[0;31m:\u001b[0m invalid syntax\n"
          ]
        }
      ]
    },
    {
      "cell_type": "code",
      "metadata": {
        "id": "7WQ_TjyZubO-",
        "colab_type": "code",
        "colab": {
          "base_uri": "https://localhost:8080/",
          "height": 130
        },
        "outputId": "c36d1e71-1d5c-4ae2-9891-96fb3cf75a6b"
      },
      "source": [
        "# Question 2.3\n",
        "\n",
        "x == 1 AND y > x\n",
        "\n",
        "# Invalid. Python is case sensitive.  The 'and' function should be lowercase."
      ],
      "execution_count": 7,
      "outputs": [
        {
          "output_type": "error",
          "ename": "SyntaxError",
          "evalue": "ignored",
          "traceback": [
            "\u001b[0;36m  File \u001b[0;32m\"<ipython-input-7-9c456ded6a52>\"\u001b[0;36m, line \u001b[0;32m2\u001b[0m\n\u001b[0;31m    x == 1 AND y > x\u001b[0m\n\u001b[0m             ^\u001b[0m\n\u001b[0;31mSyntaxError\u001b[0m\u001b[0;31m:\u001b[0m invalid syntax\n"
          ]
        }
      ]
    },
    {
      "cell_type": "code",
      "metadata": {
        "id": "cCwwoWC-wDyV",
        "colab_type": "code",
        "colab": {
          "base_uri": "https://localhost:8080/",
          "height": 130
        },
        "outputId": "46d7a4af-1053-48cd-8309-da047fcaa470"
      },
      "source": [
        "# Question 2.4\n",
        "\n",
        "return t[1:]\n",
        "\n",
        "# Invalid.  "
      ],
      "execution_count": 8,
      "outputs": [
        {
          "output_type": "error",
          "ename": "SyntaxError",
          "evalue": "ignored",
          "traceback": [
            "\u001b[0;36m  File \u001b[0;32m\"<ipython-input-8-f42ad7e94789>\"\u001b[0;36m, line \u001b[0;32m2\u001b[0m\n\u001b[0;31m    return t[1:]\u001b[0m\n\u001b[0m                ^\u001b[0m\n\u001b[0;31mSyntaxError\u001b[0m\u001b[0;31m:\u001b[0m 'return' outside function\n"
          ]
        }
      ]
    },
    {
      "cell_type": "code",
      "metadata": {
        "id": "2t7PhFjmwaED",
        "colab_type": "code",
        "colab": {
          "base_uri": "https://localhost:8080/",
          "height": 130
        },
        "outputId": "d5250259-ae11-4c83-f3c6-69847ce1af67"
      },
      "source": [
        "# Question 2.5\n",
        "\n",
        "if \"fruit\" in \"apple\":\n",
        "  \n",
        "# Invalid. Literals cannot be assigned values"
      ],
      "execution_count": 10,
      "outputs": [
        {
          "output_type": "error",
          "ename": "SyntaxError",
          "evalue": "ignored",
          "traceback": [
            "\u001b[0;36m  File \u001b[0;32m\"<ipython-input-10-4dfc875f5283>\"\u001b[0;36m, line \u001b[0;32m2\u001b[0m\n\u001b[0;31m    if \"fruit\" in \"apple\":\u001b[0m\n\u001b[0m                          ^\u001b[0m\n\u001b[0;31mSyntaxError\u001b[0m\u001b[0;31m:\u001b[0m unexpected EOF while parsing\n"
          ]
        }
      ]
    },
    {
      "cell_type": "code",
      "metadata": {
        "id": "WBzKeYcbxbbm",
        "colab_type": "code",
        "colab": {
          "base_uri": "https://localhost:8080/",
          "height": 181
        },
        "outputId": "95d44190-ef06-44ed-d162-96fd15b27aa1"
      },
      "source": [
        "# Question 2.6\n",
        "\n",
        "with open(\"myfile.txt\",\"r\")as f: text = f.read().decode(\"UTF-8\")\n",
        "  \n",
        "# This appears to be a valid function, only failing as the called files do not \n",
        "# exist on my system."
      ],
      "execution_count": 11,
      "outputs": [
        {
          "output_type": "error",
          "ename": "FileNotFoundError",
          "evalue": "ignored",
          "traceback": [
            "\u001b[0;31m---------------------------------------------------------------------------\u001b[0m",
            "\u001b[0;31mFileNotFoundError\u001b[0m                         Traceback (most recent call last)",
            "\u001b[0;32m<ipython-input-11-3c9d319c90b2>\u001b[0m in \u001b[0;36m<module>\u001b[0;34m()\u001b[0m\n\u001b[1;32m      1\u001b[0m \u001b[0;34m\u001b[0m\u001b[0m\n\u001b[0;32m----> 2\u001b[0;31m \u001b[0;32mwith\u001b[0m \u001b[0mopen\u001b[0m\u001b[0;34m(\u001b[0m\u001b[0;34m\"myfile.txt\"\u001b[0m\u001b[0;34m,\u001b[0m\u001b[0;34m\"r\"\u001b[0m\u001b[0;34m)\u001b[0m\u001b[0;32mas\u001b[0m \u001b[0mf\u001b[0m\u001b[0;34m:\u001b[0m \u001b[0mtext\u001b[0m \u001b[0;34m=\u001b[0m \u001b[0mf\u001b[0m\u001b[0;34m.\u001b[0m\u001b[0mread\u001b[0m\u001b[0;34m(\u001b[0m\u001b[0;34m)\u001b[0m\u001b[0;34m.\u001b[0m\u001b[0mdecode\u001b[0m\u001b[0;34m(\u001b[0m\u001b[0;34m\"UTF-8\"\u001b[0m\u001b[0;34m)\u001b[0m\u001b[0;34m\u001b[0m\u001b[0;34m\u001b[0m\u001b[0m\n\u001b[0m",
            "\u001b[0;31mFileNotFoundError\u001b[0m: [Errno 2] No such file or directory: 'myfile.txt'"
          ]
        }
      ]
    },
    {
      "cell_type": "code",
      "metadata": {
        "id": "PR1ces-Rya-A",
        "colab_type": "code",
        "colab": {
          "base_uri": "https://localhost:8080/",
          "height": 181
        },
        "outputId": "2bde68d3-7253-4457-82b2-2db338e0b018"
      },
      "source": [
        "# Question 2.7\n",
        "\n",
        "foo == None\n",
        "\n",
        "# Possibly valid, IF 'foo' had an assigned value "
      ],
      "execution_count": 12,
      "outputs": [
        {
          "output_type": "error",
          "ename": "NameError",
          "evalue": "ignored",
          "traceback": [
            "\u001b[0;31m---------------------------------------------------------------------------\u001b[0m",
            "\u001b[0;31mNameError\u001b[0m                                 Traceback (most recent call last)",
            "\u001b[0;32m<ipython-input-12-b02c77031662>\u001b[0m in \u001b[0;36m<module>\u001b[0;34m()\u001b[0m\n\u001b[1;32m      1\u001b[0m \u001b[0;34m\u001b[0m\u001b[0m\n\u001b[0;32m----> 2\u001b[0;31m \u001b[0mfoo\u001b[0m \u001b[0;34m==\u001b[0m \u001b[0;32mNone\u001b[0m\u001b[0;34m\u001b[0m\u001b[0;34m\u001b[0m\u001b[0m\n\u001b[0m",
            "\u001b[0;31mNameError\u001b[0m: name 'foo' is not defined"
          ]
        }
      ]
    },
    {
      "cell_type": "code",
      "metadata": {
        "id": "9X_q22YDyed1",
        "colab_type": "code",
        "colab": {}
      },
      "source": [
        "# Question 2.8\n",
        "\n",
        "name = \"My name is Brenda\"\n",
        "        name[0]=\"A\"\n",
        "  \n",
        "# Invalid.  Indentation error.  Also, string object does not support item"
      ],
      "execution_count": 0,
      "outputs": []
    },
    {
      "cell_type": "code",
      "metadata": {
        "id": "e0Y2c0rIyhZF",
        "colab_type": "code",
        "colab": {
          "base_uri": "https://localhost:8080/",
          "height": 34
        },
        "outputId": "db849104-b32b-4c61-c234-c8a6d81d6532"
      },
      "source": [
        "# Question 2.9\n",
        "\n",
        "x = 3\n",
        "x**3\n",
        "\n",
        "# Valid. Line 1 is assigning a value to x, line 2 calculates x to the 3rd power"
      ],
      "execution_count": 13,
      "outputs": [
        {
          "output_type": "execute_result",
          "data": {
            "text/plain": [
              "27"
            ]
          },
          "metadata": {
            "tags": []
          },
          "execution_count": 13
        }
      ]
    },
    {
      "cell_type": "code",
      "metadata": {
        "id": "24ueee__yijA",
        "colab_type": "code",
        "colab": {
          "base_uri": "https://localhost:8080/",
          "height": 34
        },
        "outputId": "cde3687a-ad1d-4538-fac8-af55b24210c8"
      },
      "source": [
        "# Question 2.10\n",
        "\n",
        "20%7\n",
        "\n",
        "# Valid.  Modulus (%) operator returns the remainder from the division of \n",
        "# the values provided"
      ],
      "execution_count": 14,
      "outputs": [
        {
          "output_type": "execute_result",
          "data": {
            "text/plain": [
              "6"
            ]
          },
          "metadata": {
            "tags": []
          },
          "execution_count": 14
        }
      ]
    }
  ]
}